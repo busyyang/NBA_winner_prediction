{
 "cells": [
  {
   "cell_type": "markdown",
   "metadata": {},
   "source": [
    "<center>Utilize the dataset that is provided to make a NBA predicition</center>"
   ]
  },
  {
   "cell_type": "code",
   "execution_count": 1,
   "metadata": {},
   "outputs": [],
   "source": [
    "import pandas as pd\n",
    "import math\n",
    "import numpy as np\n",
    "from sklearn.model_selection import train_test_split\n",
    "from sklearn.linear_model import LogisticRegression\n",
    "from sklearn.naive_bayes import GaussianNB\n",
    "from sklearn.ensemble import RandomForestClassifier\n",
    "from sklearn.tree import DecisionTreeClassifier\n",
    "from xgboost import XGBClassifier\n",
    "import random\n",
    "Info2018_2019 = pd.read_csv('./data/Year_2018_2019.csv')"
   ]
  },
  {
   "cell_type": "markdown",
   "metadata": {},
   "source": [
    "**Create the target, HomeWin. Create at least three new features from your dataset. Quantize all relevant features. Insert as many code and text cells as you need.**"
   ]
  },
  {
   "cell_type": "markdown",
   "metadata": {},
   "source": [
    "Firstly, I fond more information to be features of each team from [this link](https://www.basketball-reference.com/). And I saved them as .csv file. Then I load them as features. A helper function is defined."
   ]
  },
  {
   "cell_type": "code",
   "execution_count": 2,
   "metadata": {},
   "outputs": [],
   "source": [
    "# read csv file and build information matrix\n",
    "def initialize_data(Mstat, Ostat, Tstat):\n",
    "    new_Mstat = Mstat.drop(['Rk', 'Arena'], axis=1)\n",
    "    new_Ostat = Ostat.drop(['Rk', 'G', 'MP'], axis=1)\n",
    "    new_Tstat = Tstat.drop(['Rk', 'G', 'MP'], axis=1)\n",
    "\n",
    "    team_stats1 = pd.merge(new_Mstat, new_Ostat, how='left', on='Team')\n",
    "    team_stats1 = pd.merge(team_stats1, new_Tstat, how='left', on='Team')\n",
    "\n",
    "    # print(team_stats1.info())\n",
    "    return team_stats1.set_index('Team', inplace=False, drop=True)\n",
    "\n",
    "Mstat = pd.read_csv('./data/18-19Miscellaneous_Stat.csv')\n",
    "Ostat = pd.read_csv('./data/18-19Opponent_Per_Game_Stat.csv')\n",
    "Tstat = pd.read_csv('./data/18-19Team_Per_Game_Stat.csv')\n",
    "team_stats = initialize_data(Mstat, Ostat, Tstat)"
   ]
  },
  {
   "cell_type": "markdown",
   "metadata": {},
   "source": [
    "The match information is storaged in `Year_2018_2019.csv` file. Then load the match results needed with some helper functions. `X` denotes the features and `y` denotes the labels, which value of 1 means the winner team is Home team, otherwise the winner team is Visitor team."
   ]
  },
  {
   "cell_type": "code",
   "execution_count": 3,
   "metadata": {},
   "outputs": [],
   "source": [
    "base_elo = 1600\n",
    "team_elos = {}\n",
    "X = []\n",
    "y = []\n",
    "\n",
    "\n",
    "# calculate Elo score\n",
    "def calc_elo(win_team, lose_team):\n",
    "    winner_rank = get_elo(win_team)\n",
    "    loser_rank = get_elo(lose_team)\n",
    "\n",
    "    rank_diff = winner_rank - loser_rank\n",
    "    exp = (rank_diff * -1) / 400\n",
    "    odds = 1 / (1 + math.pow(10, exp))\n",
    "    if winner_rank < 2100:\n",
    "        k = 32\n",
    "    elif 2100 <= winner_rank < 2400:\n",
    "        k = 24\n",
    "    else:\n",
    "        k = 16\n",
    "    new_winner_rank = round(winner_rank + (k * (1 - odds)))\n",
    "    new_rank_diff = new_winner_rank - winner_rank\n",
    "    new_loser_rank = loser_rank - new_rank_diff\n",
    "\n",
    "    return new_winner_rank, new_loser_rank\n",
    "\n",
    "def get_elo(team):\n",
    "    try:\n",
    "        return team_elos[team]\n",
    "    except:\n",
    "        # if not, init elo score as base_elo\n",
    "        team_elos[team] = base_elo\n",
    "        return team_elos[team]\n",
    "    \n",
    "def build_dataSet(all_data):\n",
    "    # print(\"Building data set..\")\n",
    "    for index, row in all_data.iterrows():\n",
    "        WLoc = ''\n",
    "        if float(row['PTS']) > float(row['PTS.1']):\n",
    "            Wteam = row['Visitor/Neutral']\n",
    "            Lteam = row['Home/Neutral']\n",
    "            WLoc = 'V'\n",
    "        else:\n",
    "            Wteam = row['Home/Neutral']\n",
    "            Lteam = row['Visitor/Neutral']\n",
    "            WLoc = 'H'\n",
    "\n",
    "        team1_elo = get_elo(Wteam)\n",
    "        team2_elo = get_elo(Lteam)\n",
    "\n",
    "        if WLoc == 'H':\n",
    "            team1_elo += 100\n",
    "        else:\n",
    "            team2_elo += 100\n",
    "\n",
    "        team1_features = [team1_elo]\n",
    "        team2_features = [team2_elo]\n",
    "\n",
    "        for key, value in team_stats.loc[Wteam].iteritems():\n",
    "            team1_features.append(value)\n",
    "        for key, value in team_stats.loc[Lteam].iteritems():\n",
    "            team2_features.append(value)\n",
    "\n",
    "        if WLoc=='H':\n",
    "            X.append(team1_features + team2_features)\n",
    "            y.append(1)\n",
    "        else:\n",
    "            X.append(team2_features + team1_features)\n",
    "            y.append(0)\n",
    "\n",
    "        new_winner_rank, new_loser_rank = calc_elo(Wteam, Lteam)\n",
    "        team_elos[Wteam] = new_winner_rank\n",
    "        team_elos[Lteam] = new_loser_rank\n",
    "\n",
    "    return np.nan_to_num(X), np.array(y)\n",
    "\n",
    "\n",
    "X, y = build_dataSet(Info2018_2019)"
   ]
  },
  {
   "cell_type": "markdown",
   "metadata": {},
   "source": [
    "**Explore dataset. Show relevant statistics, tables, graphs, visualizations. Try to find relationships between your features and the target. Insert as many code and text cells as you need.**"
   ]
  },
  {
   "cell_type": "markdown",
   "metadata": {},
   "source": [
    "Let's take a look inside of features."
   ]
  },
  {
   "cell_type": "code",
   "execution_count": 4,
   "metadata": {},
   "outputs": [
    {
     "name": "stdout",
     "output_type": "stream",
     "text": [
      "X.shape= (1312, 136)\n",
      "Which means there are 1312 samples, and each sample has 136 features.\n",
      "such as:Feature\n",
      "      0     1     2     3     4     5     6     7     8      9    ...    \\\n",
      "0  1700.0  25.7  49.0  33.0  52.0  30.0  4.44 -0.54  3.90  112.2  ...     \n",
      "1  1700.0  28.4  57.0  25.0  56.0  26.0  6.46 -0.04  6.42  115.9  ...     \n",
      "2  1700.0  26.6  39.0  43.0  38.0  44.0 -1.10 -0.22 -1.32  111.4  ...     \n",
      "3  1700.0  26.9  41.0  41.0  40.0  42.0 -0.24 -0.31 -0.56  109.0  ...     \n",
      "4  1700.0  29.2  53.0  29.0  53.0  29.0  4.77  0.19  4.96  115.5  ...     \n",
      "5  1700.0  27.0  48.0  34.0  50.0  32.0  3.33 -0.57  2.76  109.9  ...     \n",
      "6  1700.0  27.2  48.0  34.0  43.0  39.0  0.85  0.23  1.09  112.4  ...     \n",
      "7  1700.0  23.4  17.0  65.0  19.0  63.0 -9.21  0.28 -8.93  104.5  ...     \n",
      "8  1700.0  25.7  42.0  40.0  43.0  39.0  0.71 -0.43  0.28  108.9  ...     \n",
      "9  1700.0  24.0  19.0  63.0  19.0  63.0 -9.34  0.73 -8.61  105.9  ...     \n",
      "\n",
      "     126   127   128   129   130  131  132   133   134    135  \n",
      "0  0.771  10.9  36.9  47.8  26.9  7.4  5.3  14.9  21.3  115.2  \n",
      "1  0.713  12.6  35.5  48.1  23.4  9.3  5.2  14.0  22.4  114.5  \n",
      "2  0.773   9.3  40.4  49.7  26.0  7.5  5.9  13.9  19.6  118.1  \n",
      "3  0.745  11.0  35.6  46.6  23.8  6.6  4.1  15.1  21.5  112.2  \n",
      "4  0.761  11.1  36.2  47.3  27.0  7.4  5.4  14.8  21.1  115.4  \n",
      "5  0.772   8.8  33.0  41.8  23.9  8.3  5.5  14.0  22.0  103.5  \n",
      "6  0.755  11.9  34.5  46.4  27.4  7.7  4.4  13.4  20.0  110.7  \n",
      "7  0.752  11.6  34.5  46.1  25.8  8.2  5.1  17.0  23.6  113.3  \n",
      "8  0.695  11.2  35.1  46.3  24.3  7.6  5.5  14.7  20.9  105.7  \n",
      "9  0.742  10.1  35.2  45.3  23.4  6.5  4.3  14.2  20.1  108.9  \n",
      "\n",
      "[10 rows x 136 columns]\n",
      "lables:(1 denotes HomeWin, 0 denotes VisitorWin)\n",
      "   0\n",
      "0  1\n",
      "1  1\n",
      "2  0\n",
      "3  1\n",
      "4  0\n",
      "5  1\n",
      "6  0\n",
      "7  1\n",
      "8  1\n",
      "9  1\n"
     ]
    }
   ],
   "source": [
    "print('X.shape=',X.shape)\n",
    "print('Which means there are {} samples, and each sample has {} features.'.format(X.shape[0],X.shape[1]))\n",
    "print('such as:Feature')\n",
    "print(pd.DataFrame(X).head(10))\n",
    "print('lables:(1 denotes HomeWin, 0 denotes VisitorWin)')\n",
    "print(pd.DataFrame(y).head(10))"
   ]
  },
  {
   "cell_type": "markdown",
   "metadata": {},
   "source": [
    "Plot the features. There is no significant feature only on when plot them."
   ]
  },
  {
   "cell_type": "code",
   "execution_count": 6,
   "metadata": {},
   "outputs": [
    {
     "data": {
      "image/png": "[encoded data removed]",
      "text/plain": [
       "<Figure size 432x288 with 1 Axes>"
      ]
     },
     "metadata": {},
     "output_type": "display_data"
    }
   ],
   "source": [
    "import matplotlib.pyplot as plt\n",
    "f1=X[0,:]\n",
    "f2=X[2,:]\n",
    "plt.plot(f1)\n",
    "plt.plot(f2)\n",
    "plt.legend(['feature of HomeWin match','feature of HomeLose match'])\n",
    "plt.show()"
   ]
  },
  {
   "cell_type": "markdown",
   "metadata": {},
   "source": [
    "**Create the following ML models and report the training and testing accuracy of each:**\n",
    "\n",
    "**Decision Tree Random Forest XGBoost Logistic Regression Naive Bayes (Gaussian) Use 80% of your data for training, and the remainder for testing. Use appropriate pruning and parameter tuning. Insert as many code and text cells as you need.**"
   ]
  },
  {
   "cell_type": "markdown",
   "metadata": {},
   "source": [
    "And normally in machine learning, data sets should be shuffled."
   ]
  },
  {
   "cell_type": "code",
   "execution_count": 7,
   "metadata": {},
   "outputs": [],
   "source": [
    "per = np.random.permutation(len(y))\n",
    "X = X[per, :]\n",
    "y = y[per]"
   ]
  },
  {
   "cell_type": "markdown",
   "metadata": {},
   "source": [
    "Split data sets to training set and test set. 80% of data should be for training, and remainder for testing."
   ]
  },
  {
   "cell_type": "code",
   "execution_count": 8,
   "metadata": {},
   "outputs": [
    {
     "name": "stdout",
     "output_type": "stream",
     "text": [
      "sample of trainning set:1049,sample of test set:263\n"
     ]
    }
   ],
   "source": [
    "X_train, X_test, y_train, y_test = train_test_split(X, y, test_size=0.2)\n",
    "print('sample of trainning set:{},sample of test set:{}'.format(len(y_train), len(y_test)))"
   ]
  },
  {
   "cell_type": "markdown",
   "metadata": {},
   "source": [
    "Build and train **LogisticRegression** model"
   ]
  },
  {
   "cell_type": "code",
   "execution_count": 9,
   "metadata": {},
   "outputs": [
    {
     "name": "stdout",
     "output_type": "stream",
     "text": [
      "score of Logistic Regression model in test set is 0.6920 (score of training set:0.7007)\n"
     ]
    }
   ],
   "source": [
    "lr = LogisticRegression(penalty='l2', tol=0.00001, C=0.5, solver='liblinear')\n",
    "lr.fit(X_train, y_train)\n",
    "score_lr = lr.score(X_test, y_test)\n",
    "score_lr_train = lr.score(X_train, y_train)\n",
    "print('score of Logistic Regression model in test set is {:.4f} (score of training set:{:.4f})'.format(score_lr,score_lr_train))"
   ]
  },
  {
   "cell_type": "markdown",
   "metadata": {},
   "source": [
    "Build and train **GaussianNB** model. \n",
    "more setting:https://scikit-learn.org/stable/modules/generated/sklearn.naive_bayes.GaussianNB.html"
   ]
  },
  {
   "cell_type": "code",
   "execution_count": 10,
   "metadata": {},
   "outputs": [
    {
     "name": "stdout",
     "output_type": "stream",
     "text": [
      "score of Naive Bayes (Gaussian) model in test set is 0.6996 (score of training set:0.6625)\n"
     ]
    }
   ],
   "source": [
    "gnb = GaussianNB(var_smoothing=1e-09)\n",
    "gnb.fit(X_train, y_train)\n",
    "score_gnb = gnb.score(X_test, y_test)\n",
    "score_gnb_train = gnb.score(X_train, y_train)\n",
    "print('score of Naive Bayes (Gaussian) model in test set is {:.4f} (score of training set:{:.4f})'.format(score_gnb,score_gnb_train))"
   ]
  },
  {
   "cell_type": "markdown",
   "metadata": {},
   "source": [
    "Build and train **Random Forest** model.\n",
    "more setting:https://scikit-learn.org/stable/modules/generated/sklearn.ensemble.RandomForestClassifier.html"
   ]
  },
  {
   "cell_type": "code",
   "execution_count": 11,
   "metadata": {},
   "outputs": [
    {
     "name": "stdout",
     "output_type": "stream",
     "text": [
      "score of Random Forest model in test set is 0.5589 (score of training set:0.9724)\n"
     ]
    },
    {
     "name": "stderr",
     "output_type": "stream",
     "text": [
      "C:\\ProgramData\\Anaconda3\\lib\\site-packages\\sklearn\\ensemble\\forest.py:245: FutureWarning: The default value of n_estimators will change from 10 in version 0.20 to 100 in 0.22.\n",
      "  \"10 in version 0.20 to 100 in 0.22.\", FutureWarning)\n"
     ]
    }
   ],
   "source": [
    "rf = RandomForestClassifier()\n",
    "rf.fit(X_train, y_train)\n",
    "score_rf = rf.score(X_test, y_test)\n",
    "score_rf_train = rf.score(X_train, y_train)\n",
    "print('score of Random Forest model in test set is {:.4f} (score of training set:{:.4f})'.format(score_rf,score_rf_train))"
   ]
  },
  {
   "cell_type": "markdown",
   "metadata": {},
   "source": [
    "Build and train **Decision Tree** model.\n",
    "more setting: https://scikit-learn.org/stable/modules/generated/sklearn.tree.DecisionTreeClassifier.html"
   ]
  },
  {
   "cell_type": "code",
   "execution_count": 12,
   "metadata": {},
   "outputs": [
    {
     "name": "stdout",
     "output_type": "stream",
     "text": [
      "score of Decision Tree model in test set is 0.6046 (score of training set:0.9990)\n"
     ]
    }
   ],
   "source": [
    "dt = DecisionTreeClassifier()\n",
    "dt.fit(X_train, y_train)\n",
    "score_dt = dt.score(X_test, y_test)\n",
    "score_dt_train = dt.score(X_train, y_train)\n",
    "print('score of Decision Tree model in test set is {:.4f} (score of training set:{:.4f})'.format(score_dt,score_dt_train))"
   ]
  },
  {
   "cell_type": "markdown",
   "metadata": {},
   "source": [
    "Build and train **XGBoost** model. \n",
    "more setting: https://dask-ml.readthedocs.io/en/stable/modules/generated/dask_ml.xgboost.XGBClassifier.html"
   ]
  },
  {
   "cell_type": "code",
   "execution_count": 13,
   "metadata": {},
   "outputs": [
    {
     "name": "stdout",
     "output_type": "stream",
     "text": [
      "score of XGBoost model in test set is 0.6350 (score of training set:0.7969)\n"
     ]
    }
   ],
   "source": [
    "xgb = XGBClassifier(learning_rate=0.01, max_depth=5)\n",
    "xgb.fit(X_train, y_train)\n",
    "score_xgb = xgb.score(X_test, y_test)\n",
    "score_xgb_train = xgb.score(X_train, y_train)\n",
    "print('score of XGBoost model in test set is {:.4f} (score of training set:{:.4f})'.format(score_xgb,score_xgb_train))"
   ]
  },
  {
   "cell_type": "markdown",
   "metadata": {},
   "source": [
    "For summery info:"
   ]
  },
  {
   "cell_type": "code",
   "execution_count": 14,
   "metadata": {},
   "outputs": [
    {
     "name": "stdout",
     "output_type": "stream",
     "text": [
      "score of Logistic Regression model in test set is 0.6920 (score of training set:0.7007)\n",
      "score of Naive Bayes (Gaussian) model in test set is 0.6996 (score of training set:0.6625)\n",
      "score of Random Forest model in test set is 0.5589 (score of training set:0.9724)\n",
      "score of Decision Tree model in test set is 0.6046 (score of training set:0.9990)\n",
      "score of XGBoost model in test set is 0.6350 (score of training set:0.7969)\n"
     ]
    }
   ],
   "source": [
    "print('score of Logistic Regression model in test set is {:.4f} (score of training set:{:.4f})'.format(score_lr,score_lr_train))\n",
    "print('score of Naive Bayes (Gaussian) model in test set is {:.4f} (score of training set:{:.4f})'.format(score_gnb,score_gnb_train))\n",
    "print('score of Random Forest model in test set is {:.4f} (score of training set:{:.4f})'.format(score_rf,score_rf_train))\n",
    "print('score of Decision Tree model in test set is {:.4f} (score of training set:{:.4f})'.format(score_dt,score_dt_train))\n",
    "print('score of XGBoost model in test set is {:.4f} (score of training set:{:.4f})'.format(score_xgb,score_xgb_train))"
   ]
  },
  {
   "cell_type": "markdown",
   "metadata": {},
   "source": [
    "**Analyze the models created from above question. Which ones were the best and why? Which ones were the worst? What made sense and what didn't? Insert as many code and text cells as you need. Explain your top two ML models with visualizations and words.**"
   ]
  },
  {
   "cell_type": "markdown",
   "metadata": {},
   "source": [
    "since there are some random process in above functions, different trial will get different result. In one trial, result showed like:\n",
    "\n",
    "**score of Logistic Regression model in test set is 0.6350 (score of training set:0.7140)**\n",
    "\n",
    "**score of Naive Bayes (Gaussian) model in test set is 0.6274 (score of training set:0.6835)**\n",
    "\n",
    "**score of Random Forest model in test set is 0.6008 (score of training set:0.9752)**\n",
    "\n",
    "**score of Decision Tree model in test set is 0.6236 (score of training set:1.0000)**\n",
    "\n",
    "**score of XGBoost model in test set is 0.6312 (score of training set:0.8036)**\n",
    "\n",
    "In trainning set, decision tree is the best, but not in test test. Naive Bayes (Gaussian) performed worst with score of 0.6835. In the test set, Logistic Regression performed best(score of 0.6350) and Random Forest performed worst(score of 0.6008), The second best model is XGBoost model with score of 0.6312."
   ]
  },
  {
   "cell_type": "code",
   "execution_count": 15,
   "metadata": {},
   "outputs": [
    {
     "data": {
      "text/plain": [
       "<matplotlib.legend.Legend at 0x27daecf82e8>"
      ]
     },
     "execution_count": 15,
     "metadata": {},
     "output_type": "execute_result"
    },
    {
     "data": {
      "image/png": "[encoded data removed]",
      "text/plain": [
       "<Figure size 432x288 with 1 Axes>"
      ]
     },
     "metadata": {},
     "output_type": "display_data"
    }
   ],
   "source": [
    "plt.plot(['LR','GNB','RF','DT','XGB'],[score_lr,score_gnb,score_rf,score_dt,score_xgb])\n",
    "plt.plot(['LR','GNB','RF','DT','XGB'],[score_lr_train,score_gnb_train,score_rf_train,score_dt_train,score_xgb_train])\n",
    "plt.legend(['score on test set','score on training set'])"
   ]
  },
  {
   "cell_type": "markdown",
   "metadata": {},
   "source": [
    "**Test each ML model from Question 4 on the current partial year, 2019-2020, and report the accuracies for each. Insert as many code and text cells as you need. Was your best model still the best? Analyze and discuss the results.**"
   ]
  },
  {
   "cell_type": "markdown",
   "metadata": {},
   "source": [
    "for this part, an .csv file named `Year_2019_2020.csv` should be storaged in `data` subpath. Re-load match info with code as below.\n",
    "\n",
    "**Note:** if you do not have `Year_2019_2020.csv`, you will get an error as **FileNotFoundError: File b'data/Year_2019_2020.csv' does not exist**"
   ]
  },
  {
   "cell_type": "code",
   "execution_count": 17,
   "metadata": {},
   "outputs": [
    {
     "ename": "FileNotFoundError",
     "evalue": "File b'./data/Year_2019_2020.csv' does not exist",
     "traceback": [
      "\u001b[1;31m---------------------------------------------------------------------------\u001b[0m",
      "\u001b[1;31mFileNotFoundError\u001b[0m                         Traceback (most recent call last)",
      "\u001b[1;32m<ipython-input-17-66641b6d2670>\u001b[0m in \u001b[0;36m<module>\u001b[1;34m()\u001b[0m\n\u001b[1;32m----> 1\u001b[1;33m \u001b[0mresult_data\u001b[0m \u001b[1;33m=\u001b[0m \u001b[0mpd\u001b[0m\u001b[1;33m.\u001b[0m\u001b[0mread_csv\u001b[0m\u001b[1;33m(\u001b[0m\u001b[1;34m'./data/Year_2019_2020.csv'\u001b[0m\u001b[1;33m)\u001b[0m\u001b[1;33m\u001b[0m\u001b[0m\n\u001b[0m\u001b[0;32m      2\u001b[0m \u001b[0mX_2019\u001b[0m\u001b[1;33m,\u001b[0m \u001b[0my_2019\u001b[0m \u001b[1;33m=\u001b[0m \u001b[0mbuild_dataSet\u001b[0m\u001b[1;33m(\u001b[0m\u001b[0mteam_stats\u001b[0m\u001b[1;33m,\u001b[0m \u001b[0mresult_data\u001b[0m\u001b[1;33m)\u001b[0m\u001b[1;33m\u001b[0m\u001b[0m\n\u001b[0;32m      3\u001b[0m \u001b[0mscore_lr\u001b[0m \u001b[1;33m=\u001b[0m \u001b[0mlr\u001b[0m\u001b[1;33m.\u001b[0m\u001b[0mscore\u001b[0m\u001b[1;33m(\u001b[0m\u001b[0mX_2019\u001b[0m\u001b[1;33m,\u001b[0m \u001b[0my_2019\u001b[0m\u001b[1;33m)\u001b[0m\u001b[1;33m\u001b[0m\u001b[0m\n\u001b[0;32m      4\u001b[0m \u001b[0mscore_gnb\u001b[0m \u001b[1;33m=\u001b[0m \u001b[0mgnb\u001b[0m\u001b[1;33m.\u001b[0m\u001b[0mscore\u001b[0m\u001b[1;33m(\u001b[0m\u001b[0mX_2019\u001b[0m\u001b[1;33m,\u001b[0m \u001b[0my_2019\u001b[0m\u001b[1;33m)\u001b[0m\u001b[1;33m\u001b[0m\u001b[0m\n\u001b[0;32m      5\u001b[0m \u001b[0mscore_rf\u001b[0m \u001b[1;33m=\u001b[0m \u001b[0mrf\u001b[0m\u001b[1;33m.\u001b[0m\u001b[0mscore\u001b[0m\u001b[1;33m(\u001b[0m\u001b[0mX_2019\u001b[0m\u001b[1;33m,\u001b[0m \u001b[0my_2019\u001b[0m\u001b[1;33m)\u001b[0m\u001b[1;33m\u001b[0m\u001b[0m\n",
      "\u001b[1;32mC:\\ProgramData\\Anaconda3\\lib\\site-packages\\pandas\\io\\parsers.py\u001b[0m in \u001b[0;36mparser_f\u001b[1;34m(filepath_or_buffer, sep, delimiter, header, names, index_col, usecols, squeeze, prefix, mangle_dupe_cols, dtype, engine, converters, true_values, false_values, skipinitialspace, skiprows, nrows, na_values, keep_default_na, na_filter, verbose, skip_blank_lines, parse_dates, infer_datetime_format, keep_date_col, date_parser, dayfirst, iterator, chunksize, compression, thousands, decimal, lineterminator, quotechar, quoting, escapechar, comment, encoding, dialect, tupleize_cols, error_bad_lines, warn_bad_lines, skipfooter, doublequote, delim_whitespace, low_memory, memory_map, float_precision)\u001b[0m\n\u001b[0;32m    676\u001b[0m                     skip_blank_lines=skip_blank_lines)\n\u001b[0;32m    677\u001b[0m \u001b[1;33m\u001b[0m\u001b[0m\n\u001b[1;32m--> 678\u001b[1;33m         \u001b[1;32mreturn\u001b[0m \u001b[0m_read\u001b[0m\u001b[1;33m(\u001b[0m\u001b[0mfilepath_or_buffer\u001b[0m\u001b[1;33m,\u001b[0m \u001b[0mkwds\u001b[0m\u001b[1;33m)\u001b[0m\u001b[1;33m\u001b[0m\u001b[0m\n\u001b[0m\u001b[0;32m    679\u001b[0m \u001b[1;33m\u001b[0m\u001b[0m\n\u001b[0;32m    680\u001b[0m     \u001b[0mparser_f\u001b[0m\u001b[1;33m.\u001b[0m\u001b[0m__name__\u001b[0m \u001b[1;33m=\u001b[0m \u001b[0mname\u001b[0m\u001b[1;33m\u001b[0m\u001b[0m\n",
      "\u001b[1;32mC:\\ProgramData\\Anaconda3\\lib\\site-packages\\pandas\\io\\parsers.py\u001b[0m in \u001b[0;36m_read\u001b[1;34m(filepath_or_buffer, kwds)\u001b[0m\n\u001b[0;32m    438\u001b[0m \u001b[1;33m\u001b[0m\u001b[0m\n\u001b[0;32m    439\u001b[0m     \u001b[1;31m# Create the parser.\u001b[0m\u001b[1;33m\u001b[0m\u001b[1;33m\u001b[0m\u001b[0m\n\u001b[1;32m--> 440\u001b[1;33m     \u001b[0mparser\u001b[0m \u001b[1;33m=\u001b[0m \u001b[0mTextFileReader\u001b[0m\u001b[1;33m(\u001b[0m\u001b[0mfilepath_or_buffer\u001b[0m\u001b[1;33m,\u001b[0m \u001b[1;33m**\u001b[0m\u001b[0mkwds\u001b[0m\u001b[1;33m)\u001b[0m\u001b[1;33m\u001b[0m\u001b[0m\n\u001b[0m\u001b[0;32m    441\u001b[0m \u001b[1;33m\u001b[0m\u001b[0m\n\u001b[0;32m    442\u001b[0m     \u001b[1;32mif\u001b[0m \u001b[0mchunksize\u001b[0m \u001b[1;32mor\u001b[0m \u001b[0miterator\u001b[0m\u001b[1;33m:\u001b[0m\u001b[1;33m\u001b[0m\u001b[0m\n",
      "\u001b[1;32mC:\\ProgramData\\Anaconda3\\lib\\site-packages\\pandas\\io\\parsers.py\u001b[0m in \u001b[0;36m__init__\u001b[1;34m(self, f, engine, **kwds)\u001b[0m\n\u001b[0;32m    785\u001b[0m             \u001b[0mself\u001b[0m\u001b[1;33m.\u001b[0m\u001b[0moptions\u001b[0m\u001b[1;33m[\u001b[0m\u001b[1;34m'has_index_names'\u001b[0m\u001b[1;33m]\u001b[0m \u001b[1;33m=\u001b[0m \u001b[0mkwds\u001b[0m\u001b[1;33m[\u001b[0m\u001b[1;34m'has_index_names'\u001b[0m\u001b[1;33m]\u001b[0m\u001b[1;33m\u001b[0m\u001b[0m\n\u001b[0;32m    786\u001b[0m \u001b[1;33m\u001b[0m\u001b[0m\n\u001b[1;32m--> 787\u001b[1;33m         \u001b[0mself\u001b[0m\u001b[1;33m.\u001b[0m\u001b[0m_make_engine\u001b[0m\u001b[1;33m(\u001b[0m\u001b[0mself\u001b[0m\u001b[1;33m.\u001b[0m\u001b[0mengine\u001b[0m\u001b[1;33m)\u001b[0m\u001b[1;33m\u001b[0m\u001b[0m\n\u001b[0m\u001b[0;32m    788\u001b[0m \u001b[1;33m\u001b[0m\u001b[0m\n\u001b[0;32m    789\u001b[0m     \u001b[1;32mdef\u001b[0m \u001b[0mclose\u001b[0m\u001b[1;33m(\u001b[0m\u001b[0mself\u001b[0m\u001b[1;33m)\u001b[0m\u001b[1;33m:\u001b[0m\u001b[1;33m\u001b[0m\u001b[0m\n",
      "\u001b[1;32mC:\\ProgramData\\Anaconda3\\lib\\site-packages\\pandas\\io\\parsers.py\u001b[0m in \u001b[0;36m_make_engine\u001b[1;34m(self, engine)\u001b[0m\n\u001b[0;32m   1012\u001b[0m     \u001b[1;32mdef\u001b[0m \u001b[0m_make_engine\u001b[0m\u001b[1;33m(\u001b[0m\u001b[0mself\u001b[0m\u001b[1;33m,\u001b[0m \u001b[0mengine\u001b[0m\u001b[1;33m=\u001b[0m\u001b[1;34m'c'\u001b[0m\u001b[1;33m)\u001b[0m\u001b[1;33m:\u001b[0m\u001b[1;33m\u001b[0m\u001b[0m\n\u001b[0;32m   1013\u001b[0m         \u001b[1;32mif\u001b[0m \u001b[0mengine\u001b[0m \u001b[1;33m==\u001b[0m \u001b[1;34m'c'\u001b[0m\u001b[1;33m:\u001b[0m\u001b[1;33m\u001b[0m\u001b[0m\n\u001b[1;32m-> 1014\u001b[1;33m             \u001b[0mself\u001b[0m\u001b[1;33m.\u001b[0m\u001b[0m_engine\u001b[0m \u001b[1;33m=\u001b[0m \u001b[0mCParserWrapper\u001b[0m\u001b[1;33m(\u001b[0m\u001b[0mself\u001b[0m\u001b[1;33m.\u001b[0m\u001b[0mf\u001b[0m\u001b[1;33m,\u001b[0m \u001b[1;33m**\u001b[0m\u001b[0mself\u001b[0m\u001b[1;33m.\u001b[0m\u001b[0moptions\u001b[0m\u001b[1;33m)\u001b[0m\u001b[1;33m\u001b[0m\u001b[0m\n\u001b[0m\u001b[0;32m   1015\u001b[0m         \u001b[1;32melse\u001b[0m\u001b[1;33m:\u001b[0m\u001b[1;33m\u001b[0m\u001b[0m\n\u001b[0;32m   1016\u001b[0m             \u001b[1;32mif\u001b[0m \u001b[0mengine\u001b[0m \u001b[1;33m==\u001b[0m \u001b[1;34m'python'\u001b[0m\u001b[1;33m:\u001b[0m\u001b[1;33m\u001b[0m\u001b[0m\n",
      "\u001b[1;32mC:\\ProgramData\\Anaconda3\\lib\\site-packages\\pandas\\io\\parsers.py\u001b[0m in \u001b[0;36m__init__\u001b[1;34m(self, src, **kwds)\u001b[0m\n\u001b[0;32m   1706\u001b[0m         \u001b[0mkwds\u001b[0m\u001b[1;33m[\u001b[0m\u001b[1;34m'usecols'\u001b[0m\u001b[1;33m]\u001b[0m \u001b[1;33m=\u001b[0m \u001b[0mself\u001b[0m\u001b[1;33m.\u001b[0m\u001b[0musecols\u001b[0m\u001b[1;33m\u001b[0m\u001b[0m\n\u001b[0;32m   1707\u001b[0m \u001b[1;33m\u001b[0m\u001b[0m\n\u001b[1;32m-> 1708\u001b[1;33m         \u001b[0mself\u001b[0m\u001b[1;33m.\u001b[0m\u001b[0m_reader\u001b[0m \u001b[1;33m=\u001b[0m \u001b[0mparsers\u001b[0m\u001b[1;33m.\u001b[0m\u001b[0mTextReader\u001b[0m\u001b[1;33m(\u001b[0m\u001b[0msrc\u001b[0m\u001b[1;33m,\u001b[0m \u001b[1;33m**\u001b[0m\u001b[0mkwds\u001b[0m\u001b[1;33m)\u001b[0m\u001b[1;33m\u001b[0m\u001b[0m\n\u001b[0m\u001b[0;32m   1709\u001b[0m \u001b[1;33m\u001b[0m\u001b[0m\n\u001b[0;32m   1710\u001b[0m         \u001b[0mpassed_names\u001b[0m \u001b[1;33m=\u001b[0m \u001b[0mself\u001b[0m\u001b[1;33m.\u001b[0m\u001b[0mnames\u001b[0m \u001b[1;32mis\u001b[0m \u001b[1;32mNone\u001b[0m\u001b[1;33m\u001b[0m\u001b[0m\n",
      "\u001b[1;32mpandas\\_libs\\parsers.pyx\u001b[0m in \u001b[0;36mpandas._libs.parsers.TextReader.__cinit__\u001b[1;34m()\u001b[0m\n",
      "\u001b[1;32mpandas\\_libs\\parsers.pyx\u001b[0m in \u001b[0;36mpandas._libs.parsers.TextReader._setup_parser_source\u001b[1;34m()\u001b[0m\n",
      "\u001b[1;31mFileNotFoundError\u001b[0m: File b'./data/Year_2019_2020.csv' does not exist"
     ],
     "output_type": "error"
    }
   ],
   "source": [
    "result_data = pd.read_csv('./data/Year_2019_2020.csv')\n",
    "X_2019, y_2019 = build_dataSet(team_stats, result_data)\n",
    "score_lr = lr.score(X_2019, y_2019)\n",
    "score_gnb = gnb.score(X_2019, y_2019)\n",
    "score_rf = rf.score(X_2019, y_2019)\n",
    "score_dt = dt.score(X_2019, y_2019)\n",
    "score_xgb = xgb.score(X_2019, y_2019)\n",
    "print('score of Logistic Regression model in test set is {:.4f}'.format(score_lr))\n",
    "print('score of Naive Bayes (Gaussian) model in test set is {:.4f}'.format(score_gnb))\n",
    "print('score of Random Forest model in test set is {:.4f}'.format(score_rf))\n",
    "print('score of Decision Tree model in test set is {:.4f}'.format(score_dt))\n",
    "print('score of XGBoost model in test set is {:.4f}'.format(score_xgb))"
   ]
  },
  {
   "cell_type": "markdown",
   "metadata": {},
   "source": [
    "**Do at least two things that you think will improve your model's prediction capabilities for 2019-2020 (ie incorporate more data, engineer another feature, use a new ML model, normalize your data, etc). Insert as many code and text cells as you need.**"
   ]
  },
  {
   "cell_type": "markdown",
   "metadata": {},
   "source": [
    "If pruning model needed, the websites are listed above for more parameter setting. For example, we create GaussianNB model with one line code `gnb = GaussianNB(var_smoothing=1e-09)`, if the [link](https://scikit-learn.org/stable/modules/generated/sklearn.naive_bayes.GaussianNB.html) is checked,  two parameter(priors,var_smoothing) can be set. Please feel free to modify one or two parameter(s). That will be interesting if you implyment this part by yourself. examples:\n",
    "\n",
    "xgb = XGBClassifier(learning_rate=0.01, max_depth=3)\n",
    "\n",
    "lr = LogisticRegression(C=0.5, solver='liblinear')"
   ]
  },
  {
   "cell_type": "markdown",
   "metadata": {},
   "source": [
    "**Re-evaluate: did it improve your model? Give relevant results and visualizations.**"
   ]
  },
  {
   "cell_type": "markdown",
   "metadata": {},
   "source": [
    "This part result depends on your 2019-2020 schedule and match result. I think some report should finish by yourself."
   ]
  },
  {
   "cell_type": "code",
   "execution_count": null,
   "metadata": {},
   "outputs": [],
   "source": []
  }
 ],
 "metadata": {
  "kernelspec": {
   "display_name": "Python 3",
   "language": "python",
   "name": "python3"
  },
  "language_info": {
   "codemirror_mode": {
    "name": "ipython",
    "version": 3
   },
   "file_extension": ".py",
   "mimetype": "text/x-python",
   "name": "python",
   "nbconvert_exporter": "python",
   "pygments_lexer": "ipython3",
   "version": "3.6.5"
  }
 },
 "nbformat": 4,
 "nbformat_minor": 2
}
